{
  "nbformat": 4,
  "nbformat_minor": 0,
  "metadata": {
    "colab": {
      "name": "For Loop (GitHub).ipynb",
      "provenance": [],
      "authorship_tag": "ABX9TyOLVrRwQ9Yj3Fmgh6Yu1T0X",
      "include_colab_link": true
    },
    "kernelspec": {
      "name": "python3",
      "display_name": "Python 3"
    }
  },
  "cells": [
    {
      "cell_type": "markdown",
      "metadata": {
        "id": "view-in-github",
        "colab_type": "text"
      },
      "source": [
        "<a href=\"https://colab.research.google.com/github/ShivanshGupta1/For-Loop/blob/main/For_Loop_(GitHub).ipynb\" target=\"_parent\"><img src=\"https://colab.research.google.com/assets/colab-badge.svg\" alt=\"Open In Colab\"/></a>"
      ]
    },
    {
      "cell_type": "code",
      "metadata": {
        "id": "DAdAFWwx7FdW"
      },
      "source": [
        "for u in range(1,20,4):\n",
        "  print(u)"
      ],
      "execution_count": null,
      "outputs": []
    },
    {
      "cell_type": "code",
      "metadata": {
        "id": "Sfd5OjJi8zNJ"
      },
      "source": [
        "#for loop\n",
        "a = int(input('Number of times you want to print: '))\n",
        "s = 'shivansh'\n",
        "for i in range(1,a+1,1):\n",
        "  print('Shivansh')"
      ],
      "execution_count": null,
      "outputs": []
    }
  ]
}